{
 "cells": [
  {
   "cell_type": "code",
   "execution_count": 1,
   "id": "21c211f6",
   "metadata": {
    "ExecuteTime": {
     "end_time": "2022-02-02T14:21:36.561701Z",
     "start_time": "2022-02-02T14:21:35.148089Z"
    }
   },
   "outputs": [],
   "source": [
    "import pickle\n",
    "\n",
    "import matplotlib.pyplot as plt\n",
    "import numpy as np\n",
    "import pandas as pd\n",
    "from keras.models import Model, load_model\n",
    "from sklearn.datasets import fetch_california_housing\n",
    "from sklearn.ensemble import AdaBoostRegressor, RandomForestRegressor\n",
    "from sklearn.linear_model import Ridge\n",
    "from sklearn.metrics import (mean_absolute_percentage_error,\n",
    "                             mean_squared_error, r2_score)\n",
    "from sklearn.model_selection import GridSearchCV, train_test_split\n",
    "from sklearn.neural_network import MLPRegressor\n",
    "from sklearn.pipeline import Pipeline\n",
    "from sklearn.preprocessing import MinMaxScaler\n",
    "from sklearn.svm import SVR\n",
    "from sklearn.tree import DecisionTreeRegressor\n",
    "from tqdm import tqdm"
   ]
  },
  {
   "cell_type": "code",
   "execution_count": 2,
   "id": "720373a0",
   "metadata": {
    "ExecuteTime": {
     "end_time": "2022-02-02T14:21:36.573610Z",
     "start_time": "2022-02-02T14:21:36.562822Z"
    }
   },
   "outputs": [],
   "source": [
    "X, y = fetch_california_housing(return_X_y=True)\n",
    "n = len(X)//10\n",
    "X_dev, X_test, y_dev, y_test = train_test_split(X, y, test_size=n, random_state=42)\n",
    "X_train, X_val, y_train, y_val = train_test_split(X_dev, y_dev, test_size=n, random_state=42)\n",
    "X_train.shape, y_val.shape, y_test.shape\n",
    "\n",
    "scaler = MinMaxScaler()\n",
    "scaler.fit(X_train)\n",
    "X_dev_scaled = scaler.transform(X_dev)\n",
    "X_test_scaled = scaler.transform(X_test)"
   ]
  },
  {
   "cell_type": "code",
   "execution_count": 3,
   "id": "a4604219",
   "metadata": {
    "ExecuteTime": {
     "end_time": "2022-02-02T14:21:36.580838Z",
     "start_time": "2022-02-02T14:21:36.574494Z"
    }
   },
   "outputs": [],
   "source": [
    "def evaluate_model(X_dev, y_dev, X_test, y_test,\n",
    "    model, param_grid, scalar=None, *args, **kwargs):\n",
    "    reg = model(*args, **kwargs)\n",
    "    scalar_step = [] if scalar is None else [('scale', scalar)]\n",
    "    pipe = Pipeline(steps=scalar_step+[('reg', reg)])\n",
    "    search = GridSearchCV(pipe, param_grid, n_jobs=-1, cv=5)\n",
    "    search.fit(X_dev, y_dev)\n",
    "    print(\"Best parameter (CV score=%0.3f):\" % search.best_score_)\n",
    "    print(search.best_params_)\n",
    "    \n",
    "    y_pred = search.predict(X_test)\n",
    "    return (search,\n",
    "            mean_absolute_percentage_error(y_test, y_pred),\n",
    "            np.sqrt(mean_squared_error(y_test, y_pred)),\n",
    "            r2_score(y_test, y_pred))"
   ]
  },
  {
   "cell_type": "code",
   "execution_count": 4,
   "id": "e6d0e368",
   "metadata": {
    "ExecuteTime": {
     "end_time": "2022-02-02T14:21:36.593137Z",
     "start_time": "2022-02-02T14:21:36.581659Z"
    }
   },
   "outputs": [],
   "source": [
    "def annotate_bars(ax, horizontal=True, scale=1):\n",
    "    for p in ax.patches:\n",
    "        if horizontalal:\n",
    "            xpos = p.get_width()+ p.get_width()*0.01*scale\n",
    "            ax.annotate(f\"{round(p.get_width(), 3)}\", (xpos, p.get_y() +0.1), fontsize=14)\n",
    "        else:\n",
    "            ypos = p.get_height()+ p.get_height()*0.01*scale\n",
    "            ax.annotate(f\"{round(p.get_height(), 3)}\", (p.get_x() +p.get_width()/2, ypos), fontsize=14)\n",
    "    return ax"
   ]
  },
  {
   "cell_type": "code",
   "execution_count": 5,
   "id": "2fe0aef2",
   "metadata": {
    "ExecuteTime": {
     "end_time": "2022-02-02T14:21:36.606951Z",
     "start_time": "2022-02-02T14:21:36.593930Z"
    }
   },
   "outputs": [
    {
     "data": {
      "text/plain": [
       "array([ 70, 100, 130, 160, 190, 220, 250, 280, 310])"
      ]
     },
     "execution_count": 5,
     "metadata": {},
     "output_type": "execute_result"
    }
   ],
   "source": [
    "np.arange(70, 311, 30)"
   ]
  },
  {
   "cell_type": "code",
   "execution_count": 6,
   "id": "95f57e02",
   "metadata": {
    "ExecuteTime": {
     "end_time": "2022-02-02T14:21:36.625203Z",
     "start_time": "2022-02-02T14:21:36.607782Z"
    }
   },
   "outputs": [],
   "source": [
    "models = {\n",
    "    \"Ridge Regression\": {\n",
    "        \"instance\": Ridge,\n",
    "        \"param_grid\": {\"reg__alpha\": np.arange(0.1, 1.1, 0.1)},\n",
    "        \"scalar\": MinMaxScaler(),\n",
    "        \"parameters\": {\"random_state\":42}\n",
    "    },\n",
    "    \"MLP\": {\n",
    "        \"instance\": MLPRegressor,\n",
    "        \"param_grid\": {\"reg__hidden_layer_sizes\": [[16], [16, 16], [16, 16, 16]]},\n",
    "        \"scalar\": MinMaxScaler(),\n",
    "        \"parameters\": {\"max_iter\": 1000, \"random_state\":42}\n",
    "    },\n",
    "    \"Random Forest\": {\n",
    "        \"instance\": RandomForestRegressor,\n",
    "        \"scalar\": None,\n",
    "        \"param_grid\": {\"reg__n_estimators\": np.arange(70, 310, 30)},\n",
    "        \"parameters\": {\"random_state\":42}\n",
    "    },\n",
    "    \"AdaBoost\":{\n",
    "        \"instance\": AdaBoostRegressor,\n",
    "        \"scalar\": None,\n",
    "        \"param_grid\": {\"reg__n_estimators\": np.arange(70, 310, 30), \n",
    "                       \"reg__loss\":['linear', 'square', 'exponential']\n",
    "                      },\n",
    "        \"parameters\": {\"random_state\":42}\n",
    "    },\n",
    "    \"SVM\": {\n",
    "        \"instance\": SVR,\n",
    "        \"scalar\": MinMaxScaler(),\n",
    "        \"param_grid\": {\n",
    "            \"reg__C\": np.arange(0.1, 1.1, 0.1),\n",
    "            \"reg__kernel\": [\"rbf\", \"linear\", \"poly\", \"sigmoid\"]\n",
    "        }, \"parameters\": {}\n",
    "    }\n",
    "}\n"
   ]
  },
  {
   "cell_type": "code",
   "execution_count": 7,
   "id": "db36a962",
   "metadata": {
    "ExecuteTime": {
     "end_time": "2022-02-02T14:21:36.640408Z",
     "start_time": "2022-02-02T14:21:36.626150Z"
    }
   },
   "outputs": [],
   "source": [
    "def plot_performance(reports, features=[\"MAPE\", \"RMSE\", \"R2\"]):\n",
    "    plt.figure(figsize=(16, 9))\n",
    "    performance = pd.DataFrame(reports).T[features]\n",
    "    ax = performance.plot(kind=\"barh\", figsize=(16, 9), fontsize=16)\n",
    "    ax = annotate_bars(ax, horizontal=True)\n",
    "    plt.show()"
   ]
  },
  {
   "cell_type": "code",
   "execution_count": 8,
   "id": "b5205fb4",
   "metadata": {
    "ExecuteTime": {
     "end_time": "2022-02-02T14:21:36.652947Z",
     "start_time": "2022-02-02T14:21:36.642072Z"
    }
   },
   "outputs": [],
   "source": [
    "def find_best(X_dev, y_dev, X_test, y_test):\n",
    "    global models\n",
    "    reports = {}\n",
    "    for model_name, model_attributes in tqdm(models.items()):\n",
    "        print(model_name)\n",
    "        estimator = model_attributes[\"instance\"]\n",
    "        param_grid = model_attributes[\"param_grid\"]\n",
    "        parameters = model_attributes[\"parameters\"]\n",
    "        scalar = model_attributes[\"scalar\"]\n",
    "\n",
    "        trained_model, mape, rmse, r2 = evaluate_model(\n",
    "            X_dev, y_dev, X_test, y_test,\n",
    "            estimator,\n",
    "            param_grid=param_grid,\n",
    "            scalar=scalar,\n",
    "            ** parameters\n",
    "        )\n",
    "        reports[model_name] = {\n",
    "            \"model\": trained_model, \"MAPE\": mape, \"RMSE\": rmse, \"R2\": r2}\n",
    "        print()\n",
    "    return reports"
   ]
  },
  {
   "cell_type": "markdown",
   "id": "11ab13f1",
   "metadata": {},
   "source": [
    "# Loading Target Estimation Model"
   ]
  },
  {
   "cell_type": "code",
   "execution_count": 9,
   "id": "2f9fc829",
   "metadata": {
    "ExecuteTime": {
     "end_time": "2022-02-02T14:21:37.262960Z",
     "start_time": "2022-02-02T14:21:36.653837Z"
    }
   },
   "outputs": [
    {
     "name": "stderr",
     "output_type": "stream",
     "text": [
      "2022-02-02 09:21:36.697387: I tensorflow/stream_executor/cuda/cuda_gpu_executor.cc:939] successful NUMA node read from SysFS had negative value (-1), but there must be at least one NUMA node, so returning NUMA node zero\n",
      "2022-02-02 09:21:36.719316: I tensorflow/stream_executor/cuda/cuda_gpu_executor.cc:939] successful NUMA node read from SysFS had negative value (-1), but there must be at least one NUMA node, so returning NUMA node zero\n",
      "2022-02-02 09:21:36.719443: I tensorflow/stream_executor/cuda/cuda_gpu_executor.cc:939] successful NUMA node read from SysFS had negative value (-1), but there must be at least one NUMA node, so returning NUMA node zero\n",
      "2022-02-02 09:21:36.719961: I tensorflow/core/platform/cpu_feature_guard.cc:151] This TensorFlow binary is optimized with oneAPI Deep Neural Network Library (oneDNN) to use the following CPU instructions in performance-critical operations:  AVX2 FMA\n",
      "To enable them in other operations, rebuild TensorFlow with the appropriate compiler flags.\n",
      "2022-02-02 09:21:36.741546: I tensorflow/stream_executor/cuda/cuda_gpu_executor.cc:939] successful NUMA node read from SysFS had negative value (-1), but there must be at least one NUMA node, so returning NUMA node zero\n",
      "2022-02-02 09:21:36.741691: I tensorflow/stream_executor/cuda/cuda_gpu_executor.cc:939] successful NUMA node read from SysFS had negative value (-1), but there must be at least one NUMA node, so returning NUMA node zero\n",
      "2022-02-02 09:21:36.741788: I tensorflow/stream_executor/cuda/cuda_gpu_executor.cc:939] successful NUMA node read from SysFS had negative value (-1), but there must be at least one NUMA node, so returning NUMA node zero\n",
      "2022-02-02 09:21:37.026551: I tensorflow/stream_executor/cuda/cuda_gpu_executor.cc:939] successful NUMA node read from SysFS had negative value (-1), but there must be at least one NUMA node, so returning NUMA node zero\n",
      "2022-02-02 09:21:37.026686: I tensorflow/stream_executor/cuda/cuda_gpu_executor.cc:939] successful NUMA node read from SysFS had negative value (-1), but there must be at least one NUMA node, so returning NUMA node zero\n",
      "2022-02-02 09:21:37.026789: I tensorflow/stream_executor/cuda/cuda_gpu_executor.cc:939] successful NUMA node read from SysFS had negative value (-1), but there must be at least one NUMA node, so returning NUMA node zero\n",
      "2022-02-02 09:21:37.026877: I tensorflow/core/common_runtime/gpu/gpu_device.cc:1525] Created device /job:localhost/replica:0/task:0/device:GPU:0 with 7266 MB memory:  -> device: 0, name: NVIDIA GeForce RTX 3080, pci bus id: 0000:01:00.0, compute capability: 8.6\n"
     ]
    }
   ],
   "source": [
    "model = load_model(\"cal_house\")"
   ]
  },
  {
   "cell_type": "code",
   "execution_count": 10,
   "id": "ad0788b0",
   "metadata": {
    "ExecuteTime": {
     "end_time": "2022-02-02T14:21:38.111376Z",
     "start_time": "2022-02-02T14:21:37.264303Z"
    },
    "scrolled": false
   },
   "outputs": [
    {
     "name": "stderr",
     "output_type": "stream",
     "text": [
      "2022-02-02 09:21:37.816008: I tensorflow/stream_executor/cuda/cuda_blas.cc:1774] TensorFloat-32 will be used for the matrix multiplication. This will only be logged once.\n"
     ]
    }
   ],
   "source": [
    "yhat_dev = model.predict(X_dev_scaled).flatten()\n",
    "yhat_test = model.predict(X_test_scaled).flatten()"
   ]
  },
  {
   "cell_type": "markdown",
   "id": "aa730c79",
   "metadata": {},
   "source": [
    "# Computing Error Vectors"
   ]
  },
  {
   "cell_type": "code",
   "execution_count": 11,
   "id": "5cf83114",
   "metadata": {
    "ExecuteTime": {
     "end_time": "2022-02-02T14:21:38.113683Z",
     "start_time": "2022-02-02T14:21:38.112169Z"
    }
   },
   "outputs": [],
   "source": [
    "e_dev = y_dev-yhat_dev\n",
    "e_test = y_test-yhat_test"
   ]
  },
  {
   "cell_type": "markdown",
   "id": "bca9b7da",
   "metadata": {},
   "source": [
    "# Finding best Error Estimation Model"
   ]
  },
  {
   "cell_type": "code",
   "execution_count": 12,
   "id": "edf46ad1",
   "metadata": {
    "ExecuteTime": {
     "end_time": "2022-02-02T14:21:38.125385Z",
     "start_time": "2022-02-02T14:21:38.114371Z"
    }
   },
   "outputs": [],
   "source": [
    "X_dev_yhat = np.concatenate((X_dev, yhat_dev.reshape(-1, 1)), axis=1)\n",
    "\n",
    "X_test_yhat = np.concatenate((X_test, yhat_test.reshape(-1, 1)), axis=1)"
   ]
  },
  {
   "cell_type": "code",
   "execution_count": 13,
   "id": "ea92906a",
   "metadata": {
    "ExecuteTime": {
     "end_time": "2022-02-02T14:27:31.427801Z",
     "start_time": "2022-02-02T14:21:38.126081Z"
    },
    "scrolled": true
   },
   "outputs": [
    {
     "name": "stderr",
     "output_type": "stream",
     "text": [
      "\r",
      "  0%|                                                     | 0/5 [00:00<?, ?it/s]"
     ]
    },
    {
     "name": "stdout",
     "output_type": "stream",
     "text": [
      "Ridge Regression\n"
     ]
    },
    {
     "name": "stderr",
     "output_type": "stream",
     "text": [
      "\r",
      " 20%|█████████                                    | 1/5 [00:00<00:03,  1.11it/s]"
     ]
    },
    {
     "name": "stdout",
     "output_type": "stream",
     "text": [
      "Best parameter (CV score=0.000):\n",
      "{'reg__alpha': 1.0}\n",
      "\n",
      "MLP\n"
     ]
    },
    {
     "name": "stderr",
     "output_type": "stream",
     "text": [
      "\r",
      " 40%|██████████████████                           | 2/5 [00:05<00:09,  3.13s/it]"
     ]
    },
    {
     "name": "stdout",
     "output_type": "stream",
     "text": [
      "Best parameter (CV score=0.010):\n",
      "{'reg__hidden_layer_sizes': [16, 16, 16]}\n",
      "\n",
      "Random Forest\n"
     ]
    },
    {
     "name": "stderr",
     "output_type": "stream",
     "text": [
      "\r",
      " 60%|███████████████████████████                  | 3/5 [01:23<01:14, 37.06s/it]"
     ]
    },
    {
     "name": "stdout",
     "output_type": "stream",
     "text": [
      "Best parameter (CV score=0.249):\n",
      "{'reg__n_estimators': 250}\n",
      "\n",
      "AdaBoost\n"
     ]
    },
    {
     "name": "stderr",
     "output_type": "stream",
     "text": [
      "\r",
      " 80%|████████████████████████████████████         | 4/5 [01:37<00:28, 28.20s/it]"
     ]
    },
    {
     "name": "stdout",
     "output_type": "stream",
     "text": [
      "Best parameter (CV score=-0.604):\n",
      "{'reg__loss': 'linear', 'reg__n_estimators': 70}\n",
      "\n",
      "SVM\n",
      "Best parameter (CV score=0.006):\n",
      "{'reg__C': 1.0, 'reg__kernel': 'rbf'}\n"
     ]
    },
    {
     "name": "stderr",
     "output_type": "stream",
     "text": [
      "100%|█████████████████████████████████████████████| 5/5 [05:53<00:00, 70.61s/it]"
     ]
    },
    {
     "name": "stdout",
     "output_type": "stream",
     "text": [
      "\n"
     ]
    },
    {
     "name": "stderr",
     "output_type": "stream",
     "text": [
      "\n"
     ]
    }
   ],
   "source": [
    "reports_ee = find_best(X_dev_yhat, e_dev, X_test_yhat, e_test)"
   ]
  },
  {
   "cell_type": "code",
   "execution_count": 14,
   "id": "e5439c92",
   "metadata": {
    "ExecuteTime": {
     "end_time": "2022-02-02T14:27:31.448576Z",
     "start_time": "2022-02-02T14:27:31.428835Z"
    }
   },
   "outputs": [
    {
     "data": {
      "text/html": [
       "<div>\n",
       "<style scoped>\n",
       "    .dataframe tbody tr th:only-of-type {\n",
       "        vertical-align: middle;\n",
       "    }\n",
       "\n",
       "    .dataframe tbody tr th {\n",
       "        vertical-align: top;\n",
       "    }\n",
       "\n",
       "    .dataframe thead th {\n",
       "        text-align: right;\n",
       "    }\n",
       "</style>\n",
       "<table border=\"1\" class=\"dataframe\">\n",
       "  <thead>\n",
       "    <tr style=\"text-align: right;\">\n",
       "      <th></th>\n",
       "      <th>R2</th>\n",
       "      <th>MAPE</th>\n",
       "      <th>RMSE</th>\n",
       "    </tr>\n",
       "  </thead>\n",
       "  <tbody>\n",
       "    <tr>\n",
       "      <th>Ridge Regression</th>\n",
       "      <td>0.001916</td>\n",
       "      <td>2.160034</td>\n",
       "      <td>0.550805</td>\n",
       "    </tr>\n",
       "    <tr>\n",
       "      <th>MLP</th>\n",
       "      <td>0.005361</td>\n",
       "      <td>5.888053</td>\n",
       "      <td>0.549854</td>\n",
       "    </tr>\n",
       "    <tr>\n",
       "      <th>Random Forest</th>\n",
       "      <td>0.295026</td>\n",
       "      <td>4.961458</td>\n",
       "      <td>0.462915</td>\n",
       "    </tr>\n",
       "    <tr>\n",
       "      <th>AdaBoost</th>\n",
       "      <td>-0.542001</td>\n",
       "      <td>99.054771</td>\n",
       "      <td>0.684631</td>\n",
       "    </tr>\n",
       "    <tr>\n",
       "      <th>SVM</th>\n",
       "      <td>0.017023</td>\n",
       "      <td>8.974913</td>\n",
       "      <td>0.54662</td>\n",
       "    </tr>\n",
       "  </tbody>\n",
       "</table>\n",
       "</div>"
      ],
      "text/plain": [
       "                        R2       MAPE      RMSE\n",
       "Ridge Regression  0.001916   2.160034  0.550805\n",
       "MLP               0.005361   5.888053  0.549854\n",
       "Random Forest     0.295026   4.961458  0.462915\n",
       "AdaBoost         -0.542001  99.054771  0.684631\n",
       "SVM               0.017023   8.974913   0.54662"
      ]
     },
     "execution_count": 14,
     "metadata": {},
     "output_type": "execute_result"
    }
   ],
   "source": [
    "pd.DataFrame(reports_ee).T.drop(\"model\", axis=\"columns\")[[\"R2\", \"MAPE\", \"RMSE\"]]"
   ]
  },
  {
   "cell_type": "code",
   "execution_count": 15,
   "id": "b6f463ee",
   "metadata": {
    "ExecuteTime": {
     "end_time": "2022-02-02T14:27:31.665337Z",
     "start_time": "2022-02-02T14:27:31.449548Z"
    }
   },
   "outputs": [
    {
     "data": {
      "text/plain": [
       "<Figure size 1152x648 with 0 Axes>"
      ]
     },
     "metadata": {},
     "output_type": "display_data"
    },
    {
     "data": {
      "image/png": "[encoded data removed]",
      "text/plain": [
       "<Figure size 1152x648 with 1 Axes>"
      ]
     },
     "metadata": {
      "needs_background": "light"
     },
     "output_type": "display_data"
    }
   ],
   "source": [
    "plot_performance(reports_ee, features=[\"RMSE\", \"R2\"])"
   ]
  },
  {
   "cell_type": "code",
   "execution_count": 16,
   "id": "bda1c367",
   "metadata": {
    "ExecuteTime": {
     "end_time": "2022-02-02T14:27:31.671170Z",
     "start_time": "2022-02-02T14:27:31.666267Z"
    }
   },
   "outputs": [
    {
     "data": {
      "text/plain": [
       "GridSearchCV(cv=5,\n",
       "             estimator=Pipeline(steps=[('reg',\n",
       "                                        RandomForestRegressor(random_state=42))]),\n",
       "             n_jobs=-1,\n",
       "             param_grid={'reg__n_estimators': array([ 70, 100, 130, 160, 190, 220, 250, 280])})"
      ]
     },
     "execution_count": 16,
     "metadata": {},
     "output_type": "execute_result"
    }
   ],
   "source": [
    "best_ee = reports_ee[\"Random Forest\"][\"model\"]\n",
    "best_ee"
   ]
  },
  {
   "cell_type": "markdown",
   "id": "2e4249a8",
   "metadata": {},
   "source": [
    "# Correcting TE with EE\n",
    "Since...\n",
    "$$y=\\hat{y} + \\epsilon$$\n",
    "Therefore...\n",
    "$$\\hat{y}_{\\text{corrected}}=\\hat{y} + \\lambda \\cdot\\hat{\\epsilon}$$\n",
    "Where $\\lambda$ is a scalar constant. With lower values of $c$ you are more assured you are getting closer to the actual result. However, with higher values of $\\lambda$ you might be over correcting for $y$ and end up with more error."
   ]
  },
  {
   "cell_type": "code",
   "execution_count": 21,
   "id": "43c21aed",
   "metadata": {
    "ExecuteTime": {
     "end_time": "2022-02-02T14:28:02.375502Z",
     "start_time": "2022-02-02T14:28:02.372829Z"
    }
   },
   "outputs": [],
   "source": [
    "def correct_te_with_ee(X, yhat, lamda):\n",
    "    e = best_ee.predict(np.concatenate((X, yhat.reshape(-1, 1)), axis=1))\n",
    "    return yhat + lamda*e\n",
    "\n",
    "def evaluation_report(y, yhat):\n",
    "    mape = mean_absolute_percentage_error(y, yhat)\n",
    "    rmse = np.sqrt(mean_squared_error(y, yhat))\n",
    "    r2 = r2_score(y, yhat)\n",
    "    return mape, rmse, r2"
   ]
  },
  {
   "cell_type": "markdown",
   "id": "6bd299fe",
   "metadata": {},
   "source": [
    "Finding the best $\\lambda$ on the training data."
   ]
  },
  {
   "cell_type": "code",
   "execution_count": 22,
   "id": "c38e654a",
   "metadata": {
    "ExecuteTime": {
     "end_time": "2022-02-02T14:28:02.928896Z",
     "start_time": "2022-02-02T14:28:02.923133Z"
    }
   },
   "outputs": [],
   "source": [
    "from joblib import Parallel, delayed"
   ]
  },
  {
   "cell_type": "code",
   "execution_count": 23,
   "id": "07429b3f",
   "metadata": {
    "ExecuteTime": {
     "end_time": "2022-02-02T14:28:03.472675Z",
     "start_time": "2022-02-02T14:28:03.307084Z"
    }
   },
   "outputs": [],
   "source": [
    "def step(lamda):\n",
    "    corrected_yhat = correct_te_with_ee(X_dev, yhat_dev, lamda)\n",
    "    mape, rmse, r2 = evaluation_report(y_dev, corrected_yhat)\n",
    "    return mape, rmse, r2"
   ]
  },
  {
   "cell_type": "code",
   "execution_count": 24,
   "id": "3a6ee3be",
   "metadata": {
    "ExecuteTime": {
     "end_time": "2022-02-02T14:28:30.622487Z",
     "start_time": "2022-02-02T14:28:04.499144Z"
    }
   },
   "outputs": [],
   "source": [
    "report = Parallel(n_jobs=-1, backend=\"threading\")(delayed(step)(lamda) for lamda in np.arange(-2, 2.01, 0.01))"
   ]
  },
  {
   "cell_type": "code",
   "execution_count": 25,
   "id": "bedfbab1",
   "metadata": {
    "ExecuteTime": {
     "end_time": "2022-02-02T14:28:30.630173Z",
     "start_time": "2022-02-02T14:28:30.623462Z"
    }
   },
   "outputs": [
    {
     "data": {
      "text/html": [
       "<div>\n",
       "<style scoped>\n",
       "    .dataframe tbody tr th:only-of-type {\n",
       "        vertical-align: middle;\n",
       "    }\n",
       "\n",
       "    .dataframe tbody tr th {\n",
       "        vertical-align: top;\n",
       "    }\n",
       "\n",
       "    .dataframe thead th {\n",
       "        text-align: right;\n",
       "    }\n",
       "</style>\n",
       "<table border=\"1\" class=\"dataframe\">\n",
       "  <thead>\n",
       "    <tr style=\"text-align: right;\">\n",
       "      <th></th>\n",
       "      <th>MAPE</th>\n",
       "      <th>RMSE</th>\n",
       "      <th>R2</th>\n",
       "      <th>lamda</th>\n",
       "    </tr>\n",
       "  </thead>\n",
       "  <tbody>\n",
       "    <tr>\n",
       "      <th>0</th>\n",
       "      <td>0.525938</td>\n",
       "      <td>1.302646</td>\n",
       "      <td>-0.274587</td>\n",
       "      <td>-2.00</td>\n",
       "    </tr>\n",
       "    <tr>\n",
       "      <th>1</th>\n",
       "      <td>0.524341</td>\n",
       "      <td>1.298763</td>\n",
       "      <td>-0.267001</td>\n",
       "      <td>-1.99</td>\n",
       "    </tr>\n",
       "    <tr>\n",
       "      <th>2</th>\n",
       "      <td>0.522745</td>\n",
       "      <td>1.294881</td>\n",
       "      <td>-0.259438</td>\n",
       "      <td>-1.98</td>\n",
       "    </tr>\n",
       "    <tr>\n",
       "      <th>3</th>\n",
       "      <td>0.521149</td>\n",
       "      <td>1.290999</td>\n",
       "      <td>-0.251897</td>\n",
       "      <td>-1.97</td>\n",
       "    </tr>\n",
       "    <tr>\n",
       "      <th>4</th>\n",
       "      <td>0.519553</td>\n",
       "      <td>1.287117</td>\n",
       "      <td>-0.244380</td>\n",
       "      <td>-1.96</td>\n",
       "    </tr>\n",
       "    <tr>\n",
       "      <th>...</th>\n",
       "      <td>...</td>\n",
       "      <td>...</td>\n",
       "      <td>...</td>\n",
       "      <td>...</td>\n",
       "    </tr>\n",
       "    <tr>\n",
       "      <th>396</th>\n",
       "      <td>0.117743</td>\n",
       "      <td>0.266304</td>\n",
       "      <td>0.946731</td>\n",
       "      <td>1.96</td>\n",
       "    </tr>\n",
       "    <tr>\n",
       "      <th>397</th>\n",
       "      <td>0.119224</td>\n",
       "      <td>0.269881</td>\n",
       "      <td>0.945291</td>\n",
       "      <td>1.97</td>\n",
       "    </tr>\n",
       "    <tr>\n",
       "      <th>398</th>\n",
       "      <td>0.120710</td>\n",
       "      <td>0.273467</td>\n",
       "      <td>0.943827</td>\n",
       "      <td>1.98</td>\n",
       "    </tr>\n",
       "    <tr>\n",
       "      <th>399</th>\n",
       "      <td>0.122200</td>\n",
       "      <td>0.277061</td>\n",
       "      <td>0.942341</td>\n",
       "      <td>1.99</td>\n",
       "    </tr>\n",
       "    <tr>\n",
       "      <th>400</th>\n",
       "      <td>0.123694</td>\n",
       "      <td>0.280663</td>\n",
       "      <td>0.940832</td>\n",
       "      <td>2.00</td>\n",
       "    </tr>\n",
       "  </tbody>\n",
       "</table>\n",
       "<p>401 rows × 4 columns</p>\n",
       "</div>"
      ],
      "text/plain": [
       "         MAPE      RMSE        R2  lamda\n",
       "0    0.525938  1.302646 -0.274587  -2.00\n",
       "1    0.524341  1.298763 -0.267001  -1.99\n",
       "2    0.522745  1.294881 -0.259438  -1.98\n",
       "3    0.521149  1.290999 -0.251897  -1.97\n",
       "4    0.519553  1.287117 -0.244380  -1.96\n",
       "..        ...       ...       ...    ...\n",
       "396  0.117743  0.266304  0.946731   1.96\n",
       "397  0.119224  0.269881  0.945291   1.97\n",
       "398  0.120710  0.273467  0.943827   1.98\n",
       "399  0.122200  0.277061  0.942341   1.99\n",
       "400  0.123694  0.280663  0.940832   2.00\n",
       "\n",
       "[401 rows x 4 columns]"
      ]
     },
     "execution_count": 25,
     "metadata": {},
     "output_type": "execute_result"
    }
   ],
   "source": [
    "report_df = pd.DataFrame(report, columns=[\"MAPE\", \"RMSE\", \"R2\"]).assign(lamda=np.arange(-2, 2.01, 0.01))\n",
    "report_df"
   ]
  },
  {
   "cell_type": "code",
   "execution_count": 26,
   "id": "5b50e8d3",
   "metadata": {
    "ExecuteTime": {
     "end_time": "2022-02-02T14:28:30.643250Z",
     "start_time": "2022-02-02T14:28:30.630906Z"
    }
   },
   "outputs": [
    {
     "data": {
      "text/plain": [
       "1.3300000000000027"
      ]
     },
     "execution_count": 26,
     "metadata": {},
     "output_type": "execute_result"
    }
   ],
   "source": [
    "best_lamda = report_df.sort_values(\"R2\", ascending=False).iloc[0].lamda\n",
    "best_lamda"
   ]
  },
  {
   "cell_type": "code",
   "execution_count": 27,
   "id": "09562d7c",
   "metadata": {
    "ExecuteTime": {
     "end_time": "2022-02-02T14:28:30.771679Z",
     "start_time": "2022-02-02T14:28:30.644349Z"
    }
   },
   "outputs": [
    {
     "data": {
      "text/plain": [
       "(0.16151997448271135, 0.4592927211427525, 0.841820393236792)"
      ]
     },
     "execution_count": 27,
     "metadata": {},
     "output_type": "execute_result"
    }
   ],
   "source": [
    "corrected_yhat = correct_te_with_ee(X_test, yhat_test, best_lamda)\n",
    "mape, rmse, r2 = evaluation_report(y_test, corrected_yhat)\n",
    "mape, rmse, r2"
   ]
  },
  {
   "cell_type": "markdown",
   "id": "de138847",
   "metadata": {},
   "source": [
    "# Significance Test"
   ]
  },
  {
   "cell_type": "code",
   "execution_count": 28,
   "id": "312aaded",
   "metadata": {
    "ExecuteTime": {
     "end_time": "2022-02-02T14:28:30.777832Z",
     "start_time": "2022-02-02T14:28:30.772535Z"
    }
   },
   "outputs": [
    {
     "data": {
      "text/html": [
       "<div>\n",
       "<style scoped>\n",
       "    .dataframe tbody tr th:only-of-type {\n",
       "        vertical-align: middle;\n",
       "    }\n",
       "\n",
       "    .dataframe tbody tr th {\n",
       "        vertical-align: top;\n",
       "    }\n",
       "\n",
       "    .dataframe thead th {\n",
       "        text-align: right;\n",
       "    }\n",
       "</style>\n",
       "<table border=\"1\" class=\"dataframe\">\n",
       "  <thead>\n",
       "    <tr style=\"text-align: right;\">\n",
       "      <th></th>\n",
       "      <th>MAPE</th>\n",
       "      <th>RMSE</th>\n",
       "      <th>R2</th>\n",
       "    </tr>\n",
       "  </thead>\n",
       "  <tbody>\n",
       "    <tr>\n",
       "      <th>Before</th>\n",
       "      <td>0.211691</td>\n",
       "      <td>0.551333</td>\n",
       "      <td>0.772071</td>\n",
       "    </tr>\n",
       "    <tr>\n",
       "      <th>After</th>\n",
       "      <td>0.161520</td>\n",
       "      <td>0.459293</td>\n",
       "      <td>0.841820</td>\n",
       "    </tr>\n",
       "  </tbody>\n",
       "</table>\n",
       "</div>"
      ],
      "text/plain": [
       "            MAPE      RMSE        R2\n",
       "Before  0.211691  0.551333  0.772071\n",
       "After   0.161520  0.459293  0.841820"
      ]
     },
     "execution_count": 28,
     "metadata": {},
     "output_type": "execute_result"
    }
   ],
   "source": [
    "pd.DataFrame([evaluation_report(y_test, yhat_test), evaluation_report(y_test, corrected_yhat)], columns=[\"MAPE\",\"RMSE\", \"R2\"], index=[\"Before\", \"After\"])"
   ]
  },
  {
   "cell_type": "code",
   "execution_count": 29,
   "id": "f3f97fc4",
   "metadata": {
    "ExecuteTime": {
     "end_time": "2022-02-02T14:28:30.789248Z",
     "start_time": "2022-02-02T14:28:30.778549Z"
    }
   },
   "outputs": [],
   "source": [
    "from scipy.stats import ttest_ind"
   ]
  },
  {
   "cell_type": "code",
   "execution_count": 30,
   "id": "bdd3a755",
   "metadata": {
    "ExecuteTime": {
     "end_time": "2022-02-02T14:28:30.801265Z",
     "start_time": "2022-02-02T14:28:30.789967Z"
    }
   },
   "outputs": [],
   "source": [
    "old = np.abs((y_test-yhat_test)/y_test)\n",
    "new = np.abs((y_test-corrected_yhat)/y_test)"
   ]
  },
  {
   "cell_type": "code",
   "execution_count": 31,
   "id": "a1d1b950",
   "metadata": {
    "ExecuteTime": {
     "end_time": "2022-02-02T14:28:30.815124Z",
     "start_time": "2022-02-02T14:28:30.801966Z"
    }
   },
   "outputs": [
    {
     "data": {
      "text/plain": [
       "Ttest_indResult(statistic=-6.97419201605633, pvalue=1.7835927065047248e-12)"
      ]
     },
     "execution_count": 31,
     "metadata": {},
     "output_type": "execute_result"
    }
   ],
   "source": [
    "ttest_ind(new, old, alternative='less')"
   ]
  },
  {
   "cell_type": "code",
   "execution_count": null,
   "id": "de264857",
   "metadata": {},
   "outputs": [],
   "source": []
  }
 ],
 "metadata": {
  "kernelspec": {
   "display_name": "Python 3 (ipykernel)",
   "language": "python",
   "name": "python3"
  },
  "language_info": {
   "codemirror_mode": {
    "name": "ipython",
    "version": 3
   },
   "file_extension": ".py",
   "mimetype": "text/x-python",
   "name": "python",
   "nbconvert_exporter": "python",
   "pygments_lexer": "ipython3",
   "version": "3.9.10"
  },
  "toc": {
   "base_numbering": 1,
   "nav_menu": {},
   "number_sections": true,
   "sideBar": true,
   "skip_h1_title": false,
   "title_cell": "Table of Contents",
   "title_sidebar": "Contents",
   "toc_cell": false,
   "toc_position": {},
   "toc_section_display": true,
   "toc_window_display": true
  }
 },
 "nbformat": 4,
 "nbformat_minor": 5
}
